{
 "cells": [
  {
   "cell_type": "code",
   "execution_count": 1,
   "id": "d7afb63a",
   "metadata": {},
   "outputs": [],
   "source": [
    "from model import JDCNet\n",
    "from meldataset import build_dataloader\n",
    "from optimizers import build_optimizer\n",
    "from trainer import Trainer\n",
    "\n",
    "import time\n",
    "import os\n",
    "import os.path as osp\n",
    "import re\n",
    "import sys\n",
    "import yaml\n",
    "import shutil\n",
    "import numpy as np\n",
    "import torch\n",
    "import torch.nn as nn\n",
    "from torch.utils.tensorboard import SummaryWriter\n",
    "import click\n",
    "from tqdm import tqdm\n",
    "\n",
    "import logging\n",
    "from logging import StreamHandler\n",
    "logger = logging.getLogger(__name__)\n",
    "logger.setLevel(logging.DEBUG)\n",
    "handler = StreamHandler()\n",
    "handler.setLevel(logging.DEBUG)\n",
    "logger.addHandler(handler)\n",
    "\n",
    "torch.backends.cudnn.benchmark = True"
   ]
  },
  {
   "cell_type": "code",
   "execution_count": 2,
   "id": "4a18dc9d",
   "metadata": {},
   "outputs": [],
   "source": [
    "def get_data_path_list(train_path=None, val_path=None):\n",
    "    if train_path is None:\n",
    "        train_path = \"Data/train_list.txt\"\n",
    "    if val_path is None:\n",
    "        val_path = \"Data/val_list.txt\"\n",
    "\n",
    "    with open(train_path, 'r') as f:\n",
    "        train_list = f.readlines()\n",
    "    with open(val_path, 'r') as f:\n",
    "        val_list = f.readlines()\n",
    "\n",
    "    # train_list = train_list[-500:]\n",
    "    # val_list = train_list[:500]\n",
    "    return train_list, val_list"
   ]
  },
  {
   "cell_type": "code",
   "execution_count": 3,
   "id": "c43ce420",
   "metadata": {},
   "outputs": [],
   "source": [
    "config = {\n",
    "    'log_dir': \"Checkpoint\",\n",
    "    'save_freq': 10,\n",
    "    'device': \"cpu\",\n",
    "    'epochs': 100,\n",
    "    'batch_size': 2,\n",
    "    'pretrained_model': \"\",\n",
    "    'train_data': \"Data/train_list.txt\",\n",
    "    'val_data': \"Data/val_list.txt\",\n",
    "    'num_workers': 4,\n",
    "  \n",
    "'optimizer_params':{\n",
    "  'lr': 0.0003},\n",
    "'loss_params':{\n",
    "  'lambda_f0': 0.1}\n",
    "}\n",
    "#config_path = 'Configs/config.yml' : Load from file"
   ]
  },
  {
   "cell_type": "code",
   "execution_count": 4,
   "id": "19aeea64",
   "metadata": {},
   "outputs": [],
   "source": [
    "config_path = 'Configs/config.yml' #: Load from file\n",
    "#config = yaml.safe_load(open(config_path))\n",
    "\n",
    "config = config # load configurations\n",
    "\n",
    "import os.path as osp\n",
    "import yaml\n",
    "# for saving the config file to hard-drive\n",
    "def save_config(config, log_dir):\n",
    "    #config_filename = osp.join(log_dir, 'config.yml')\n",
    "    with open(log_dir, 'w') as f:\n",
    "        yaml.dump(config, f)"
   ]
  },
  {
   "cell_type": "code",
   "execution_count": 5,
   "id": "2bc55c62",
   "metadata": {},
   "outputs": [],
   "source": [
    "#log Preparation\n",
    "#config = yaml.safe_load(open(config_path))\n",
    "log_dir = config['log_dir']\n",
    "if not osp.exists(log_dir): os.mkdir(log_dir)\n",
    "\n",
    "# shutil.copy(config_path, osp.join(log_dir, osp.basename(config_path)))\n",
    "save_config(config,osp.join(log_dir, osp.basename(config_path)))\n",
    "\n",
    "writer = SummaryWriter(log_dir + \"/tensorboard\")\n",
    "\n",
    "# write logs\n",
    "file_handler = logging.FileHandler(osp.join(log_dir, 'train.log'))\n",
    "file_handler.setLevel(logging.DEBUG)\n",
    "file_handler.setFormatter(logging.Formatter('%(levelname)s:%(asctime)s: %(message)s'))\n",
    "logger.addHandler(file_handler)"
   ]
  },
  {
   "cell_type": "code",
   "execution_count": 6,
   "id": "c5af1a44",
   "metadata": {},
   "outputs": [],
   "source": [
    "# laoding Config\n",
    "batch_size = config.get('batch_size', 32)\n",
    "device = config.get('device', 'cpu')\n",
    "epochs = config.get('epochs', 100)\n",
    "save_freq = config.get('save_freq', 10)\n",
    "train_path = config.get('train_data', None)\n",
    "val_path = config.get('val_data', None)\n",
    "num_workers = config.get('num_workers', 8)"
   ]
  },
  {
   "cell_type": "code",
   "execution_count": 7,
   "id": "0832a99b",
   "metadata": {},
   "outputs": [],
   "source": [
    "#loading Dataset\n",
    "train_list, val_list = get_data_path_list(train_path, val_path)\n",
    "\n",
    "train_dataloader = build_dataloader(train_list,\n",
    "                                    batch_size=batch_size,\n",
    "                                    num_workers=num_workers,\n",
    "                                    dataset_config=config.get('dataset_params', {}),\n",
    "                                    device=device)\n",
    "\n",
    "val_dataloader = build_dataloader(val_list,\n",
    "                                  batch_size=batch_size,\n",
    "                                  validation=True,\n",
    "                                  num_workers=num_workers // 2,\n",
    "                                  device=device,\n",
    "                                  dataset_config=config.get('dataset_params', {}))"
   ]
  },
  {
   "cell_type": "code",
   "execution_count": 8,
   "id": "7d26b05e",
   "metadata": {},
   "outputs": [
    {
     "name": "stderr",
     "output_type": "stream",
     "text": [
      "C:\\Users\\diago\\AppData\\Local\\Programs\\Python\\Python39\\lib\\site-packages\\torch\\nn\\modules\\rnn.py:71: UserWarning: dropout option adds dropout after all but last recurrent layer, so non-zero dropout expects num_layers greater than 1, but got dropout=0.3 and num_layers=1\n",
      "  warnings.warn(\"dropout option adds dropout after all but last \"\n"
     ]
    },
    {
     "name": "stdout",
     "output_type": "stream",
     "text": [
      "{'max_lr': 0.0003, 'pct_start': 0.0, 'epochs': 100, 'steps_per_epoch': 179}\n"
     ]
    }
   ],
   "source": [
    "# load model and Optimizer\n",
    "# define model\n",
    "model = JDCNet(num_class=1) # num_class = 1 means regression\n",
    "\n",
    "scheduler_params = {\n",
    "        \"max_lr\": float(config['optimizer_params'].get('lr', 5e-4)),\n",
    "        \"pct_start\": float(config['optimizer_params'].get('pct_start', 0.0)),\n",
    "        \"epochs\": epochs,\n",
    "        \"steps_per_epoch\": len(train_dataloader),\n",
    "    }\n",
    "\n",
    "model.to(device)\n",
    "optimizer, scheduler = build_optimizer(\n",
    "    {\"params\": model.parameters(), \"optimizer_params\":{}, \"scheduler_params\": scheduler_params})"
   ]
  },
  {
   "cell_type": "code",
   "execution_count": 9,
   "id": "849f0578",
   "metadata": {},
   "outputs": [],
   "source": [
    "# load Checkpoint and loss parameters\n",
    "criterion = {'l1': nn.SmoothL1Loss(), # F0 loss (regression)\n",
    "             'ce':  nn.BCEWithLogitsLoss() # silence loss (binary classification)\n",
    "            }\n",
    "\n",
    "loss_config = config['loss_params']\n",
    "\n",
    "trainer = Trainer(model=model,\n",
    "                    criterion=criterion,\n",
    "                    optimizer=optimizer,\n",
    "                    scheduler=scheduler,\n",
    "                    device=device,\n",
    "                    train_dataloader=train_dataloader,\n",
    "                    val_dataloader=val_dataloader,\n",
    "                    loss_config=loss_config,\n",
    "                    logger=logger)\n",
    "\n",
    "if config.get('pretrained_model', '') != '':\n",
    "    trainer.load_checkpoint(config['pretrained_model'],\n",
    "                            load_only_params=config.get('load_only_params', True))"
   ]
  },
  {
   "cell_type": "code",
   "execution_count": 10,
   "id": "22d69b60",
   "metadata": {},
   "outputs": [
    {
     "name": "stdout",
     "output_type": "stream",
     "text": [
      "Checking if all F0 data is computed...\n",
      "All F0 data is computed.\n"
     ]
    }
   ],
   "source": [
    "#Mel first time Assurance\n",
    "# compute all F0 for training and validation data\n",
    "print('Checking if all F0 data is computed...')\n",
    "for _ in enumerate(train_dataloader):\n",
    "    continue\n",
    "for _ in enumerate(val_dataloader):\n",
    "    continue\n",
    "print('All F0 data is computed.')"
   ]
  },
  {
   "cell_type": "code",
   "execution_count": null,
   "id": "d70681bf",
   "metadata": {},
   "outputs": [
    {
     "name": "stderr",
     "output_type": "stream",
     "text": [
      "[train]: 100%|███████████████████████████████████████████████████████████████████████| 179/179 [11:28<00:00,  3.85s/it]\n",
      "[eval]: 100%|██████████████████████████████████████████████████████████████████████████| 30/30 [00:57<00:00,  1.90s/it]\n",
      "--- epoch 1 ---\n",
      "train/loss     : 16.8554\n",
      "train/f0       : 16.6690\n",
      "train/sil      : 0.1864\n",
      "train/learning_rate: 0.0003\n",
      "eval/loss      : 20.8818\n",
      "eval/f0        : 20.6858\n",
      "eval/sil       : 0.1960\n",
      "[train]:  80%|█████████████████████████████████████████████████████████              | 144/179 [08:15<02:26,  4.18s/it]"
     ]
    }
   ],
   "source": [
    "#Training\n",
    "for epoch in range(1, epochs+1):\n",
    "        train_results = trainer._train_epoch()\n",
    "        eval_results = trainer._eval_epoch()\n",
    "        results = train_results.copy()\n",
    "        results.update(eval_results)\n",
    "        logger.info('--- epoch %d ---' % epoch)\n",
    "        for key, value in results.items():\n",
    "            if isinstance(value, float):\n",
    "                logger.info('%-15s: %.4f' % (key, value))\n",
    "                writer.add_scalar(key, value, epoch)\n",
    "            else:\n",
    "                writer.add_figure(key, (v), epoch)\n",
    "        if (epoch % save_freq) == 0:\n",
    "            trainer.save_checkpoint(osp.join(log_dir, 'epoch_%05d.pth' % epoch))"
   ]
  },
  {
   "cell_type": "code",
   "execution_count": null,
   "id": "8e0edc8b",
   "metadata": {},
   "outputs": [],
   "source": []
  }
 ],
 "metadata": {
  "kernelspec": {
   "display_name": "Python 3 (ipykernel)",
   "language": "python",
   "name": "python3"
  },
  "language_info": {
   "codemirror_mode": {
    "name": "ipython",
    "version": 3
   },
   "file_extension": ".py",
   "mimetype": "text/x-python",
   "name": "python",
   "nbconvert_exporter": "python",
   "pygments_lexer": "ipython3",
   "version": "3.9.9"
  }
 },
 "nbformat": 4,
 "nbformat_minor": 5
}
